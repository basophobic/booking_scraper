{
 "cells": [
  {
   "cell_type": "code",
   "execution_count": 43,
   "metadata": {},
   "outputs": [],
   "source": [
    "import selenium\n",
    "import json\n",
    "import time\n",
    "import re\n",
    "import string\n",
    "import requests\n",
    "import bs4\n",
    "from selenium.webdriver import Firefox\n",
    "from selenium.webdriver.common.by import By\n",
    "from selenium.webdriver.common.keys import Keys\n",
    "from selenium.webdriver.firefox.options import Options\n",
    "from selenium.webdriver.support import expected_conditions as EC\n",
    "from selenium.webdriver.support.wait import WebDriverWait\n"
   ]
  },
  {
   "cell_type": "code",
   "execution_count": 44,
   "metadata": {},
   "outputs": [],
   "source": [
    "#This is the English version of the booking domain\n",
    "domain =  'https://www.booking.com/index.html?lang=en-us'\n"
   ]
  },
  {
   "cell_type": "code",
   "execution_count": 45,
   "metadata": {},
   "outputs": [],
   "source": [
    "def prepare_driver(url):\n",
    "    '''Returns a Firefox Webdriver.'''\n",
    "    options = Options()\n",
    "    #options.add_argument('-headless')\n",
    "    driver = Firefox(executable_path='geckodriver', options=options)\n",
    "    driver.get(url)\n",
    "    wait = WebDriverWait(driver, 10).until(EC.presence_of_element_located((By.ID, 'ss')))\n",
    "    return driver\n"
   ]
  },
  {
   "cell_type": "code",
   "execution_count": 46,
   "metadata": {},
   "outputs": [],
   "source": [
    "def fill_form(driver, search_argument):\n",
    "    '''Finds all the input tags in form and makes a POST requests.'''\n",
    "    search_field = driver.find_element_by_id('ss')\n",
    "    search_field.send_keys(search_argument)\n",
    "    # We look for the search button and click it\n",
    "    driver.find_element_by_class_name('sb-searchbox__button').click()\n",
    "    wait = WebDriverWait(driver, timeout=10).until(EC.presence_of_all_elements_located((By.CLASS_NAME, 'sr-hotel__title')))"
   ]
  },
  {
   "cell_type": "code",
   "execution_count": 47,
   "metadata": {},
   "outputs": [],
   "source": [
    "def scrape_results(driver, n_results):\n",
    "    '''Returns the data from n_results amount of results.'''\n",
    "\n",
    "    accommodations_urls = list()\n",
    "    accommodations_data = list()\n",
    "\n",
    "    for accomodation_title in driver.find_elements_by_class_name('sr-hotel__title'):\n",
    "        accommodations_urls.append(accomodation_title.find_element_by_class_name('hotel_name_link').get_attribute('href'))\n",
    "\n",
    "    for url in range(0, n_results):\n",
    "        if url == n_results:\n",
    "            break\n",
    "        url_data = scrape_accommodation_data(driver, accommodations_urls[url])\n",
    "        accommodations_data.append(url_data)\n",
    "\n",
    "    return accommodations_data"
   ]
  },
  {
   "cell_type": "code",
   "execution_count": 48,
   "metadata": {},
   "outputs": [],
   "source": [
    "def scrape_accommodation_data(driver, accommodation_url):\n",
    "    '''Visits an accommodation page and extracts the data.'''\n",
    "\n",
    "    if driver == None:\n",
    "        driver = prepare_driver(accommodation_url)\n",
    "\n",
    "    driver.get(accommodation_url)\n",
    "    time.sleep(5)\n",
    "\n",
    "    accommodation_fields = dict()\n",
    "\n",
    "    # Get the Hotel name to print\n",
    "    hotel_name = driver.find_element_by_id('hp_hotel_name').text\n",
    "    print(hotel_name + \"\\n=====================================\\n\")\n",
    "\n",
    "    #Show the reviews of the hotel\n",
    "    driver.find_element_by_id('show_reviews_tab').click()\n",
    "    time.sleep(5)\n",
    "\n",
    "    # find the number of pages with the reviews results\n",
    "    rev_pages = int (driver.find_element_by_xpath(\"/html/body/div[5]/div/div[3]/div[2]/div[1]/div[11]/div/div[1]/div[2]/div[2]/div[3]/div[3]/div[4]/div/div[1]/div/div[2]/div/div[7]/a/span[1]\").text)\n",
    "    print (\"The total number of pages with reviews is: \" + str(rev_pages) + \"\\n\\n\")\n",
    "\n",
    "    #First Page of reviews\n",
    "    print(\"FIRST PAGE-------------------------------------\\n\")\n",
    "    reviews = driver.find_elements_by_class_name('c-review__body') #this is the first page\n",
    "    ii=0\n",
    "    for rev in reviews:\n",
    "        print (str(ii+1) + \". \" + rev.text)\n",
    "        ii = ii+1\n",
    "\n",
    "    # Second page of reviews\n",
    "    for ind in range (2,rev_pages+1):\n",
    "        rev_link = driver.find_element_by_class_name('pagenext').get_attribute('href')\n",
    "        driver.get(rev_link)\n",
    "        time.sleep(5)\n",
    "        print(\"PAGE \" + str(ind) + \" -------------------------------------\\n\")\n",
    "        reviews = driver.find_elements_by_class_name('c-review__body')\n",
    "        ii=0\n",
    "        for rev in reviews:\n",
    "            print (str(ii+1) + \". \" + rev.text)\n",
    "            ii=ii+1\n",
    "\n",
    "\n",
    "\n",
    "    '''\n",
    "    # Get the accommodation name\n",
    "    accommodation_fields['name'] = driver.find_element_by_id('hp_hotel_name').text.strip('Hotel')\n",
    "\n",
    "    # Get the accommodation score\n",
    "    accommodation_fields['score'] = driver.find_element_by_class_name('bui-review-score--end').find_element_by_class_name('bui-review-score__badge').text\n",
    "\n",
    "    # Get the accommodation location\n",
    "    accommodation_fields['location'] = driver.find_element_by_id('showMap2').find_element_by_class_name('hp_address_subtitle').text\n",
    "\n",
    "    # Get the most popular facilities\n",
    "    accommodation_fields['popular_facilities'] = list()\n",
    "    facilities = driver.find_element_by_class_name('hp_desc_important_facilities')\n",
    "\n",
    "    for facility in facilities.find_elements_by_class_name('important_facility'):\n",
    "        accommodation_fields['popular_facilities'].append(facility.text)\n",
    "    '''\n",
    "    return accommodation_fields\n",
    "\n"
   ]
  },
  {
   "cell_type": "code",
   "execution_count": null,
   "metadata": {
    "scrolled": true
   },
   "outputs": [],
   "source": [
    "if __name__ == '__main__':\n",
    "\n",
    "    try:\n",
    "        driver = prepare_driver(domain)\n",
    "        fill_form(driver, 'Delphi')\n",
    "        accommodations_data = scrape_results(driver, 1)\n",
    "        accommodations_data = json.dumps(accommodations_data, indent=4)\n",
    "        with open('booking_data.json', 'w') as f:\n",
    "            f.write(accommodations_data)\n",
    "    finally:\n",
    "        driver.quit()\n"
   ]
  }
 ],
 "metadata": {
  "kernelspec": {
   "display_name": "Python 3",
   "language": "python",
   "name": "python3"
  },
  "language_info": {
   "codemirror_mode": {
    "name": "ipython",
    "version": 3
   },
   "file_extension": ".py",
   "mimetype": "text/x-python",
   "name": "python",
   "nbconvert_exporter": "python",
   "pygments_lexer": "ipython3",
   "version": "3.7.5"
  }
 },
 "nbformat": 4,
 "nbformat_minor": 2
}
